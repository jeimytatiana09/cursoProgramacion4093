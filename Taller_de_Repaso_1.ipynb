{
  "nbformat": 4,
  "nbformat_minor": 0,
  "metadata": {
    "colab": {
      "provenance": []
    },
    "kernelspec": {
      "name": "python3",
      "display_name": "Python 3"
    },
    "language_info": {
      "name": "python"
    }
  },
  "cells": [
    {
      "cell_type": "code",
      "source": [
        "# Ejercicio 1\n",
        "Sueldo = float(input(\"¿Cuánto es su salario? \"))\n",
        "# Cálculo del comision\n",
        "comision = Sueldo * 0.1\n",
        "# Suma del sueldo con la comision\n",
        "total = Sueldo + comision\n",
        "# Visualiza por pantalla el total con la comision incluido\n",
        "print(\"Su comision es = ${:,.0f} y el total a pagar es= ${:,.0f}\".format(comision, total))"
      ],
      "metadata": {
        "colab": {
          "base_uri": "https://localhost:8080/"
        },
        "id": "W2nNnzUjGMZv",
        "outputId": "bbe2d85b-d78b-4bdb-eca1-17756426a556"
      },
      "execution_count": 8,
      "outputs": [
        {
          "output_type": "stream",
          "name": "stdout",
          "text": [
            "¿Cuánto es su salario? 10000\n",
            "Su comision es = $1,000 y el total a pagar es= $11,000\n"
          ]
        }
      ]
    },
    {
      "cell_type": "code",
      "source": [
        "# Ejercicio 2\n",
        "Compra= float(input(\"¿Cuánto es su compra? \"))\n",
        "# Cálculo del descuento\n",
        "descuento = Compra * 0.15\n",
        "# Suma de la compra con el descuento\n",
        "total = Compra - descuento\n",
        "# Visualiza por pantalla el total con la comision incluido\n",
        "print(\"Su descuento es = ${:,.0f} y el total a pagar es= ${:,.0f}\".format(descuento, total))\n"
      ],
      "metadata": {
        "colab": {
          "base_uri": "https://localhost:8080/"
        },
        "id": "rX3kxUozc72Y",
        "outputId": "cbb6462c-c432-4fb3-85e1-446cd57e7924"
      },
      "execution_count": 9,
      "outputs": [
        {
          "output_type": "stream",
          "name": "stdout",
          "text": [
            "¿Cuánto es su compra? 100\n",
            "Su descuento es = $15 y el total a pagar es= $85\n"
          ]
        }
      ]
    },
    {
      "cell_type": "code",
      "source": [
        "# Ejercicio 3\n",
        "cal1 = float(input(\"Digite la calificación 1: \"))\n",
        "cal2 = float(input(\"Digite la calificación 2: \"))\n",
        "cal3 = float(input(\"Digite la calificación 3: \"))\n",
        "\n",
        "prom = round( (cal1 + cal2 + cal3)/3,  2)\n",
        "\n",
        "print(f\"Su calificación final es = {prom}\")"
      ],
      "metadata": {
        "colab": {
          "base_uri": "https://localhost:8080/"
        },
        "id": "Y1uDcUjQdl6s",
        "outputId": "6a083be7-50a5-4ab3-f1a1-b396a60e3d7e"
      },
      "execution_count": 10,
      "outputs": [
        {
          "output_type": "stream",
          "name": "stdout",
          "text": [
            "Digite la calificación 1: 40\n",
            "Digite la calificación 2: 40\n",
            "Digite la calificación 3: 30\n",
            "Su calificación final es = 36.67\n"
          ]
        }
      ]
    },
    {
      "cell_type": "code",
      "source": [
        "# Ejercicio 4\n",
        "mujeres= float(input(\"Cuantas Mujeres hay en su clase: \"))\n",
        "hombres= float(input(\"Cuantos hombres hay en su clase: \"))\n",
        "total = mujeres+hombres\n",
        "Prom_muj= ((mujeres/total)*100)\n",
        "Prom_hom= ((hombres/total)*100)\n",
        "print(\"El porcentaje de mujeres es = {:,.0f}% y el porcentaje de hombres es= {:,.0f}%\".format(Prom_muj, Prom_hom))\n"
      ],
      "metadata": {
        "colab": {
          "base_uri": "https://localhost:8080/"
        },
        "id": "EDzlFJL2dyhU",
        "outputId": "6c2f2ba1-805c-4f73-8090-931e69013546"
      },
      "execution_count": 11,
      "outputs": [
        {
          "output_type": "stream",
          "name": "stdout",
          "text": [
            "Cuantas Mujeres hay en su clase: 30\n",
            "Cuantos hombres hay en su clase: 20\n",
            "El porcentaje de mujeres es = 60% y el porcentaje de hombres es= 40%\n"
          ]
        }
      ]
    }
  ]
}